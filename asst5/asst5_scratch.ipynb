{
 "cells": [
  {
   "cell_type": "code",
   "execution_count": 1,
   "id": "upper-victoria",
   "metadata": {},
   "outputs": [],
   "source": [
    "import numpy as np"
   ]
  },
  {
   "cell_type": "code",
   "execution_count": 2,
   "id": "usual-railway",
   "metadata": {},
   "outputs": [
    {
     "data": {
      "text/plain": [
       "array([[ 0,  2],\n",
       "       [ 9, 11]])"
      ]
     },
     "execution_count": 2,
     "metadata": {},
     "output_type": "execute_result"
    }
   ],
   "source": [
    "x = np.array([[ 0,  1,  2],\n",
    "              [ 3,  4,  5],\n",
    "              [ 6,  7,  8],\n",
    "              [ 9, 10, 11]])\n",
    "rows = np.array([[0, 0],\n",
    "                 [3, 3]], dtype=np.intp)\n",
    "columns = np.array([[0, 2],\n",
    "                    [0, 2]], dtype=np.intp)\n",
    "x[rows, columns]"
   ]
  },
  {
   "cell_type": "code",
   "execution_count": 3,
   "id": "involved-sheep",
   "metadata": {},
   "outputs": [
    {
     "data": {
      "text/plain": [
       "array([[0, 1, 2],\n",
       "       [6, 7, 8]])"
      ]
     },
     "execution_count": 3,
     "metadata": {},
     "output_type": "execute_result"
    }
   ],
   "source": [
    "rows = [0, 2]\n",
    "x[rows, :]"
   ]
  },
  {
   "cell_type": "code",
   "execution_count": 4,
   "id": "operational-happiness",
   "metadata": {},
   "outputs": [
    {
     "data": {
      "text/plain": [
       "array([ 0, 11])"
      ]
     },
     "execution_count": 4,
     "metadata": {},
     "output_type": "execute_result"
    }
   ],
   "source": [
    "rows = np.array([0, 3], dtype=np.intp)\n",
    "columns = np.array([0, 2], dtype=np.intp)\n",
    "x[rows, columns]"
   ]
  },
  {
   "cell_type": "code",
   "execution_count": 5,
   "id": "rubber-relative",
   "metadata": {},
   "outputs": [
    {
     "data": {
      "text/plain": [
       "array([ 0, 11])"
      ]
     },
     "execution_count": 5,
     "metadata": {},
     "output_type": "execute_result"
    }
   ],
   "source": [
    "rows = [0, 3]\n",
    "columns = [0, 2]\n",
    "x[rows, columns]"
   ]
  },
  {
   "cell_type": "code",
   "execution_count": 6,
   "id": "featured-divorce",
   "metadata": {},
   "outputs": [
    {
     "ename": "IndexError",
     "evalue": "shape mismatch: indexing arrays could not be broadcast together with shapes (2,) (4,) ",
     "output_type": "error",
     "traceback": [
      "\u001b[0;31m---------------------------------------------------------------------------\u001b[0m",
      "\u001b[0;31mIndexError\u001b[0m                                Traceback (most recent call last)",
      "\u001b[0;32m<ipython-input-6-f5a55739e867>\u001b[0m in \u001b[0;36m<module>\u001b[0;34m\u001b[0m\n\u001b[0;32m----> 1\u001b[0;31m \u001b[0mx\u001b[0m\u001b[0;34m[\u001b[0m\u001b[0mrows\u001b[0m\u001b[0;34m,\u001b[0m \u001b[0;34m[\u001b[0m\u001b[0;36m0\u001b[0m\u001b[0;34m,\u001b[0m \u001b[0;36m1\u001b[0m\u001b[0;34m,\u001b[0m \u001b[0;36m2\u001b[0m\u001b[0;34m,\u001b[0m \u001b[0;36m3\u001b[0m\u001b[0;34m]\u001b[0m\u001b[0;34m]\u001b[0m\u001b[0;34m\u001b[0m\u001b[0;34m\u001b[0m\u001b[0m\n\u001b[0m",
      "\u001b[0;31mIndexError\u001b[0m: shape mismatch: indexing arrays could not be broadcast together with shapes (2,) (4,) "
     ]
    }
   ],
   "source": [
    "x[rows, [0, 1, 2, 3]]"
   ]
  },
  {
   "cell_type": "code",
   "execution_count": 7,
   "id": "proved-northeast",
   "metadata": {},
   "outputs": [
    {
     "data": {
      "text/plain": [
       "array([[0, 1, 2]])"
      ]
     },
     "execution_count": 7,
     "metadata": {},
     "output_type": "execute_result"
    }
   ],
   "source": [
    "x[0:1, :]"
   ]
  },
  {
   "cell_type": "code",
   "execution_count": 10,
   "id": "considered-sierra",
   "metadata": {},
   "outputs": [
    {
     "name": "stdout",
     "output_type": "stream",
     "text": [
      "(3,)\n"
     ]
    }
   ],
   "source": [
    "print(x[2,:].shape)"
   ]
  },
  {
   "cell_type": "code",
   "execution_count": 19,
   "id": "facial-federation",
   "metadata": {},
   "outputs": [
    {
     "name": "stdout",
     "output_type": "stream",
     "text": [
      "{'a': 9.99, 'b': 1.21, 'c': 3.33}\n"
     ]
    }
   ],
   "source": [
    "sums = {\n",
    "  \"a\": 999,\n",
    "  \"b\": 121,\n",
    "  \"c\": 333\n",
    "}\n",
    "\n",
    "avgs = {}\n",
    "sums_list = sums.items()\n",
    "for classname, summa in sums_list:\n",
    "    avg = summa / 100.0\n",
    "    avgs.update({classname: avg})\n",
    "    \n",
    "print(avgs)"
   ]
  },
  {
   "cell_type": "code",
   "execution_count": 20,
   "id": "fluid-prophet",
   "metadata": {},
   "outputs": [],
   "source": [
    "import matplotlib.pyplot as plt"
   ]
  },
  {
   "cell_type": "code",
   "execution_count": null,
   "id": "mathematical-filename",
   "metadata": {},
   "outputs": [],
   "source": [
    "# plot the histograms\n",
    "fig_histos, ax_histos = plt.subplots(15,1)\n",
    "# for each class, plot its average histogram\n",
    "for classname, histo in avg_histos.items():\n",
    "    vocab_indices = np.arange(0,vocab_size)\n",
    "    assert vocab_indices.shape == histo.shape\n",
    "    ax_histos[i].bar(vocab_indices, histo)\n",
    "    ax_histos[i].title.set_text(f'Average histogram for scene: {classname}')\n",
    "plt.show()"
   ]
  },
  {
   "cell_type": "code",
   "execution_count": 21,
   "id": "institutional-beijing",
   "metadata": {},
   "outputs": [
    {
     "data": {
      "text/plain": [
       "array([[1]])"
      ]
     },
     "execution_count": 21,
     "metadata": {},
     "output_type": "execute_result"
    }
   ],
   "source": [
    "classes = ['a', 'b', 'c']\n",
    "folder = 'b'\n",
    "np.argwhere(np.core.defchararray.equal(classes, folder))"
   ]
  },
  {
   "cell_type": "code",
   "execution_count": 24,
   "id": "previous-supply",
   "metadata": {},
   "outputs": [
    {
     "name": "stdout",
     "output_type": "stream",
     "text": [
      "[0 2 1]\n",
      "[[1. 0. 0.]\n",
      " [0. 0. 1.]\n",
      " [0. 1. 0.]]\n"
     ]
    }
   ],
   "source": [
    "num_classes = 3\n",
    "feats = np.array([0, 2, 1])\n",
    "print(feats)\n",
    "feats_one_hot = np.zeros((feats.shape[0], num_classes))\n",
    "feats_one_hot[range(0, feats.shape[0]), feats[range(0, feats.shape[0])]] = 1\n",
    "print(feats_one_hot)"
   ]
  },
  {
   "cell_type": "code",
   "execution_count": 28,
   "id": "legitimate-winner",
   "metadata": {},
   "outputs": [
    {
     "name": "stdout",
     "output_type": "stream",
     "text": [
      "[0 2 1]\n"
     ]
    }
   ],
   "source": [
    "feats_int = np.argmax(feats_one_hot, axis=1)\n",
    "print(feats_int)"
   ]
  },
  {
   "cell_type": "code",
   "execution_count": null,
   "id": "cooperative-sphere",
   "metadata": {},
   "outputs": [],
   "source": []
  }
 ],
 "metadata": {
  "kernelspec": {
   "display_name": "Python [conda env:cs425_env] *",
   "language": "python",
   "name": "conda-env-cs425_env-py"
  },
  "language_info": {
   "codemirror_mode": {
    "name": "ipython",
    "version": 3
   },
   "file_extension": ".py",
   "mimetype": "text/x-python",
   "name": "python",
   "nbconvert_exporter": "python",
   "pygments_lexer": "ipython3",
   "version": "3.6.12"
  }
 },
 "nbformat": 4,
 "nbformat_minor": 5
}
