{
 "cells": [
  {
   "cell_type": "code",
   "execution_count": 2,
   "id": "british-pitch",
   "metadata": {},
   "outputs": [
    {
     "name": "stdout",
     "output_type": "stream",
     "text": [
      "[-1  2 -1]\n"
     ]
    }
   ],
   "source": [
    "import numpy as np\n",
    "\n",
    "a = np.array([1, 2, 3])\n",
    "b = np.array([True, False, True])\n",
    "a[b] = -1\n",
    "print(a)"
   ]
  },
  {
   "cell_type": "code",
   "execution_count": 11,
   "id": "pacific-chapter",
   "metadata": {},
   "outputs": [
    {
     "data": {
      "text/plain": [
       "array([2])"
      ]
     },
     "execution_count": 11,
     "metadata": {},
     "output_type": "execute_result"
    }
   ],
   "source": [
    "a[a>=0]"
   ]
  },
  {
   "cell_type": "code",
   "execution_count": 12,
   "id": "religious-thinking",
   "metadata": {},
   "outputs": [
    {
     "name": "stdout",
     "output_type": "stream",
     "text": [
      "0.09999999999999964\n"
     ]
    }
   ],
   "source": [
    "print(f\"{7.3%3.6}\")"
   ]
  },
  {
   "cell_type": "code",
   "execution_count": 20,
   "id": "accurate-rendering",
   "metadata": {},
   "outputs": [
    {
     "data": {
      "text/plain": [
       "357.13521102434584"
      ]
     },
     "execution_count": 20,
     "metadata": {},
     "output_type": "execute_result"
    }
   ],
   "source": [
    "import math\n",
    "math.degrees(-4*math.pi-0.05) % 360.0"
   ]
  },
  {
   "cell_type": "code",
   "execution_count": 20,
   "id": "chief-christianity",
   "metadata": {},
   "outputs": [
    {
     "name": "stdout",
     "output_type": "stream",
     "text": [
      "[1 2]\n",
      "3\n"
     ]
    }
   ],
   "source": [
    "c = np.array([1, 2, 3])\n",
    "print(c[0:-1])\n",
    "print(c[-1])"
   ]
  },
  {
   "cell_type": "code",
   "execution_count": 21,
   "id": "limited-gossip",
   "metadata": {},
   "outputs": [
    {
     "name": "stdout",
     "output_type": "stream",
     "text": [
      "[1 2]\n"
     ]
    }
   ],
   "source": [
    "print(c[c<3])"
   ]
  },
  {
   "cell_type": "code",
   "execution_count": 8,
   "id": "canadian-monitor",
   "metadata": {},
   "outputs": [
    {
     "name": "stdout",
     "output_type": "stream",
     "text": [
      "[0 0 3]\n"
     ]
    }
   ],
   "source": [
    "c[c<3] = 0\n",
    "print(c)"
   ]
  },
  {
   "cell_type": "code",
   "execution_count": 9,
   "id": "matched-marshall",
   "metadata": {},
   "outputs": [
    {
     "name": "stdout",
     "output_type": "stream",
     "text": [
      "[[1 2]\n",
      " [3 4]\n",
      " [5 6]]\n"
     ]
    }
   ],
   "source": [
    "d = np.array([[1, 2], [3, 4], [5, 6]])\n",
    "print(d)"
   ]
  },
  {
   "cell_type": "code",
   "execution_count": 10,
   "id": "wooden-binary",
   "metadata": {},
   "outputs": [
    {
     "name": "stdout",
     "output_type": "stream",
     "text": [
      "[[1. 2. 1.]\n",
      " [3. 4. 1.]\n",
      " [5. 6. 1.]]\n"
     ]
    }
   ],
   "source": [
    "dNew = np.append(d, np.ones((d.shape[0], 1), dtype=np.float64), axis=1)\n",
    "print(dNew)"
   ]
  },
  {
   "cell_type": "code",
   "execution_count": 11,
   "id": "legitimate-queens",
   "metadata": {},
   "outputs": [
    {
     "name": "stdout",
     "output_type": "stream",
     "text": [
      "(5,)\n"
     ]
    }
   ],
   "source": [
    "e = np.array([1, 2, 3, 4, 5])\n",
    "print(e.shape)"
   ]
  },
  {
   "cell_type": "code",
   "execution_count": 16,
   "id": "second-celtic",
   "metadata": {},
   "outputs": [
    {
     "name": "stdout",
     "output_type": "stream",
     "text": [
      "(5, 1)\n",
      "[[1 1]\n",
      " [2 2]\n",
      " [3 3]\n",
      " [4 4]\n",
      " [5 5]]\n"
     ]
    }
   ],
   "source": [
    "eNew = np.expand_dims(e, axis=1)\n",
    "print(eNew.shape)\n",
    "eNew = np.repeat(eNew, 2, axis=1)\n",
    "print(eNew)"
   ]
  },
  {
   "cell_type": "code",
   "execution_count": 17,
   "id": "polar-martial",
   "metadata": {},
   "outputs": [
    {
     "name": "stdout",
     "output_type": "stream",
     "text": [
      "(3,)\n"
     ]
    }
   ],
   "source": [
    "ind = np.array([0, 2, 4])\n",
    "print(ind.shape)"
   ]
  },
  {
   "cell_type": "code",
   "execution_count": 18,
   "id": "limiting-theory",
   "metadata": {},
   "outputs": [
    {
     "name": "stdout",
     "output_type": "stream",
     "text": [
      "[[1 1]\n",
      " [3 3]\n",
      " [5 5]]\n"
     ]
    }
   ],
   "source": [
    "eNewSelected = eNew[ind, :]\n",
    "print(eNewSelected)"
   ]
  },
  {
   "cell_type": "code",
   "execution_count": 25,
   "id": "joint-friendly",
   "metadata": {},
   "outputs": [
    {
     "name": "stdout",
     "output_type": "stream",
     "text": [
      "[ True False  True]\n",
      "[[1 2]\n",
      " [5 6]]\n"
     ]
    }
   ],
   "source": [
    "f = np.array([[1, 2], [3, 4], [5, 6]])\n",
    "fMask = np.array([1, 0, 1])\n",
    "print(fMask>0)\n",
    "fNew = f[fMask>0, :]\n",
    "print(fNew)"
   ]
  },
  {
   "cell_type": "code",
   "execution_count": null,
   "id": "western-connection",
   "metadata": {},
   "outputs": [],
   "source": []
  }
 ],
 "metadata": {
  "kernelspec": {
   "display_name": "Python [conda env:cs425_env] *",
   "language": "python",
   "name": "conda-env-cs425_env-py"
  },
  "language_info": {
   "codemirror_mode": {
    "name": "ipython",
    "version": 3
   },
   "file_extension": ".py",
   "mimetype": "text/x-python",
   "name": "python",
   "nbconvert_exporter": "python",
   "pygments_lexer": "ipython3",
   "version": "3.6.12"
  }
 },
 "nbformat": 4,
 "nbformat_minor": 5
}
